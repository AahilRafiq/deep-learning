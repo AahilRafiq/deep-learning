{
 "cells": [
  {
   "cell_type": "markdown",
   "metadata": {},
   "source": [
    "# Linear regression using Pytorch\n",
    "\n",
    "* True function : $y = 2x_1 + 3x_2 + 4$\n",
    "* Single Neuron network\n",
    "* Learning rate = 0.01\n",
    "* Error function: MSE"
   ]
  },
  {
   "cell_type": "code",
   "execution_count": 52,
   "metadata": {},
   "outputs": [],
   "source": [
    "import torch\n",
    "import numpy as np"
   ]
  },
  {
   "cell_type": "code",
   "execution_count": 53,
   "metadata": {},
   "outputs": [],
   "source": [
    "dataset = np.random.rand(1000,3)\n",
    "dataset[:,2] = 2*dataset[:,0] + 3*dataset[:,1] + 4\n",
    "\n",
    "features = torch.from_numpy(dataset[:,[0,1]]).to(dtype=torch.float32)\n",
    "labels = torch.from_numpy(dataset[:,2]).to(dtype=torch.float32)"
   ]
  },
  {
   "cell_type": "code",
   "execution_count": 54,
   "metadata": {},
   "outputs": [],
   "source": [
    "w = torch.rand(2,requires_grad=True)\n",
    "b = torch.rand(1,requires_grad=True)\n",
    "\n",
    "learning_rate = 0.01"
   ]
  },
  {
   "cell_type": "code",
   "execution_count": 55,
   "metadata": {},
   "outputs": [],
   "source": [
    "optimizer = torch.optim.SGD(params=[w,b],lr=learning_rate)\n",
    "loss_fn = torch.nn.functional.mse_loss"
   ]
  },
  {
   "cell_type": "code",
   "execution_count": 57,
   "metadata": {},
   "outputs": [
    {
     "name": "stderr",
     "output_type": "stream",
     "text": [
      "/tmp/ipykernel_15946/2605808870.py:5: UserWarning: Using a target size (torch.Size([])) that is different to the input size (torch.Size([1])). This will likely lead to incorrect results due to broadcasting. Please ensure they have the same size.\n",
      "  loss = loss_fn(y,t)\n"
     ]
    },
    {
     "name": "stdout",
     "output_type": "stream",
     "text": [
      "Loss:  0.0004575508355628699\n",
      "Loss:  0.0011709254467859864\n",
      "Loss:  0.0011025425046682358\n",
      "Loss:  4.166630969848484e-05\n",
      "Loss:  0.00013994541950523853\n",
      "Loss:  0.0004099209909327328\n",
      "Loss:  0.00013782127643935382\n",
      "Loss:  0.00035648627090267837\n",
      "Loss:  0.0001978182845050469\n",
      "Loss:  4.987125430488959e-05\n",
      "w1:  2.0034682750701904\n",
      "w1:  2.9692301750183105\n",
      "b:  4.015936374664307\n"
     ]
    }
   ],
   "source": [
    "for i in range(1000):\n",
    "    y = torch.matmul(features[i],w)+b\n",
    "    t = labels[i]\n",
    "    \n",
    "    loss = loss_fn(y,t)\n",
    "    optimizer.zero_grad()\n",
    "    loss.backward()\n",
    "    optimizer.step()\n",
    "    \n",
    "    if i%100 == 0 :\n",
    "        print(\"Loss: \",loss.item())\n",
    "    \n",
    "\n",
    "print(\"w1: \",w[0].item())\n",
    "print(\"w1: \",w[1].item())\n",
    "print(\"b: \",b.item())\n",
    "    "
   ]
  },
  {
   "cell_type": "code",
   "execution_count": null,
   "metadata": {},
   "outputs": [],
   "source": []
  }
 ],
 "metadata": {
  "kernelspec": {
   "display_name": "Python 3",
   "language": "python",
   "name": "python3"
  },
  "language_info": {
   "codemirror_mode": {
    "name": "ipython",
    "version": 3
   },
   "file_extension": ".py",
   "mimetype": "text/x-python",
   "name": "python",
   "nbconvert_exporter": "python",
   "pygments_lexer": "ipython3",
   "version": "3.12.8"
  }
 },
 "nbformat": 4,
 "nbformat_minor": 2
}
