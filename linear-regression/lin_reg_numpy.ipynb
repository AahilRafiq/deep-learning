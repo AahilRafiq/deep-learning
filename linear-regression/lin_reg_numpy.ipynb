{
 "cells": [
  {
   "cell_type": "markdown",
   "metadata": {},
   "source": [
    "# Linear regression using Numpy only\n",
    "\n",
    "* True function : $y = 2x_1 + 3x_2 + 4$\n",
    "* Single Neuron network\n",
    "* Acitvation function : ReLU\n",
    "* Learning rate = 0.01\n",
    "* Error function: MSE"
   ]
  },
  {
   "cell_type": "code",
   "execution_count": 2,
   "metadata": {},
   "outputs": [],
   "source": [
    "import numpy as np\n",
    "import random"
   ]
  },
  {
   "cell_type": "markdown",
   "metadata": {},
   "source": [
    "### Generating Dataset\n",
    "[x1,x2,y] -> shape of data"
   ]
  },
  {
   "cell_type": "code",
   "execution_count": 3,
   "metadata": {},
   "outputs": [
    {
     "name": "stdout",
     "output_type": "stream",
     "text": [
      "[[0.91097889 0.85483822 8.38647245]\n",
      " [0.38648833 0.89396704 7.4548778 ]\n",
      " [0.65367278 0.05882391 5.48381731]\n",
      " ...\n",
      " [0.92761536 0.76903424 8.16233345]\n",
      " [0.60857333 0.59169459 6.99223045]\n",
      " [0.97438011 0.31907136 6.9059743 ]]\n"
     ]
    }
   ],
   "source": [
    "dataset = np.random.rand(1000,3)\n",
    "\n",
    "def trueFn(x1,x2):\n",
    "    return 2*x1 + 3*x2 + 4\n",
    "\n",
    "dataset[:, 2] = trueFn(dataset[:, 0], dataset[:, 1])\n",
    "    \n",
    "print(dataset)"
   ]
  },
  {
   "cell_type": "markdown",
   "metadata": {},
   "source": [
    "### Grad functions"
   ]
  },
  {
   "cell_type": "code",
   "execution_count": 4,
   "metadata": {},
   "outputs": [],
   "source": [
    "def update_w(learning_rate, t, y, a, x) -> float:\n",
    "    d_a_y = np.where(a > 0, 1, 0)\n",
    "    return learning_rate * np.mean((t - y) * d_a_y * x)\n",
    "\n",
    "def update_b(learning_rate, t, y, a) -> float:\n",
    "    d_a_y = np.where(a > 0, 1, 0)\n",
    "    return learning_rate * np.mean((t - y) * d_a_y)\n",
    "\n",
    "def reLU(a):\n",
    "    return np.maximum(a, 0)"
   ]
  },
  {
   "cell_type": "markdown",
   "metadata": {},
   "source": [
    "### Running the model"
   ]
  },
  {
   "cell_type": "code",
   "execution_count": 5,
   "metadata": {},
   "outputs": [
    {
     "name": "stdout",
     "output_type": "stream",
     "text": [
      "Final weights:  1.998079710302264 2.997786939069709 4.002198086725567\n"
     ]
    }
   ],
   "source": [
    "w1=random.random()\n",
    "w2=random.random()\n",
    "b=random.random()\n",
    "learning_rate = 0.01\n",
    "\n",
    "epochs = 10000\n",
    "for i in range(epochs):\n",
    "    a = w1 * dataset[:, 0] + w2 * dataset[:, 1] + b\n",
    "    y = reLU(a)\n",
    "    w1 += update_w(learning_rate, dataset[:, 2], y, a, dataset[:, 0])\n",
    "    w2 += update_w(learning_rate, dataset[:, 2], y, a, dataset[:, 1])\n",
    "    b  += update_b(learning_rate, dataset[:, 2], y, a)\n",
    "    \n",
    "print(\"Final weights: \",w1,w2,b)"
   ]
  }
 ],
 "metadata": {
  "kernelspec": {
   "display_name": "Python 3",
   "language": "python",
   "name": "python3"
  },
  "language_info": {
   "codemirror_mode": {
    "name": "ipython",
    "version": 3
   },
   "file_extension": ".py",
   "mimetype": "text/x-python",
   "name": "python",
   "nbconvert_exporter": "python",
   "pygments_lexer": "ipython3",
   "version": "3.12.8"
  }
 },
 "nbformat": 4,
 "nbformat_minor": 2
}
