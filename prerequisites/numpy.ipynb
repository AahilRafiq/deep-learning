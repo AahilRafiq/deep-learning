{
 "cells": [
  {
   "cell_type": "markdown",
   "metadata": {},
   "source": [
    "# Numpy Basic crash course\n",
    "* Python calls matrices lists, NumPy calls them arrays and TensorFlow calls them tensors. \n",
    "* Python represents matrices with the list data type."
   ]
  },
  {
   "cell_type": "markdown",
   "metadata": {},
   "source": []
  },
  {
   "cell_type": "code",
   "execution_count": 1,
   "metadata": {},
   "outputs": [],
   "source": [
    "import numpy as np"
   ]
  },
  {
   "cell_type": "markdown",
   "metadata": {},
   "source": [
    "* Create arrays"
   ]
  },
  {
   "cell_type": "code",
   "execution_count": null,
   "metadata": {},
   "outputs": [],
   "source": [
    "one_dimensional_array = np.array([1.2, 2.4, 3.5, 4.7, 6.1, 7.2, 8.3, 9.5])\n",
    "two_dimensional_array = np.array([[6, 5], [11, 7], [4, 8]]) # 3x2"
   ]
  },
  {
   "cell_type": "markdown",
   "metadata": {},
   "source": [
    "* Populate arrays with specific numbers"
   ]
  },
  {
   "cell_type": "code",
   "execution_count": null,
   "metadata": {},
   "outputs": [],
   "source": [
    "np_zeroes = np.zeros((3, 4)) # 3x4\n",
    "np_ones = np.ones((2, 3)) # 2x3\n",
    "np_sevens = np.full((3, 3), 7) # 3x3"
   ]
  },
  {
   "cell_type": "markdown",
   "metadata": {},
   "source": [
    "* Sequence like [5, 6, 7, 8, 9, 10, 11]"
   ]
  },
  {
   "cell_type": "code",
   "execution_count": null,
   "metadata": {},
   "outputs": [],
   "source": [
    "sequence_of_integers = np.arange(5, 12)"
   ]
  },
  {
   "cell_type": "markdown",
   "metadata": {},
   "source": [
    "### Generating random numbers\n",
    "* Note : the high value is exclusive"
   ]
  },
  {
   "cell_type": "code",
   "execution_count": null,
   "metadata": {},
   "outputs": [],
   "source": [
    "# random numbers between 50 and 100 -> range [50, 100)\n",
    "random_integers_between_50_and_100 = np.random.randint(low=50, high=101, size=(6,))\n",
    "# random numbers between 50 and 100 2D array\n",
    "random_integers_between_50_and_100_2D = np.random.randint(low=50, high=101, size=(3, 4))\n",
    "# random numbers between 0.0 and 1.0 1D array\n",
    "random_floats_between_0_and_1 = np.random.random((6))\n",
    "# random numbers between 0.0 and 1.0 2D array\n",
    "random_floats_between_0_and_1_2D = np.random.random((3, 4))"
   ]
  },
  {
   "cell_type": "markdown",
   "metadata": {},
   "source": [
    "### Task 1: Create a Linear Dataset\n",
    "\n",
    "Your goal is to create a simple dataset consisting of a single feature and a label as follows:\n",
    "\n",
    "1. Assign a sequence of integers from 6 to 20 (inclusive) to a NumPy array named `feature`.\n",
    "2. Assign 15 values to a NumPy array named `label` such that:\n",
    "\n",
    "```\n",
    "   label = (3)(feature) + 4\n",
    "```\n",
    "For example, the first value for `label` should be:\n",
    "\n",
    "```\n",
    "  label = (3)(6) + 4 = 22\n",
    " ```"
   ]
  },
  {
   "cell_type": "code",
   "execution_count": null,
   "metadata": {},
   "outputs": [],
   "source": [
    "feature = np.arange(6,21)\n",
    "label = feature*3 + 4\n",
    "print(label)"
   ]
  },
  {
   "cell_type": "markdown",
   "metadata": {},
   "source": [
    "### Task 2: Add Some Noise to the Dataset\n",
    "\n",
    "To make your dataset a little more realistic, insert a little random noise into each element of the `label` array you already created. To be more precise, modify each value assigned to `label` by adding a *different* random floating-point value between -2 and +2. \n",
    "\n",
    "Don't rely on broadcasting. Instead, create a `noise` array having the same dimension as `label`."
   ]
  },
  {
   "cell_type": "code",
   "execution_count": null,
   "metadata": {},
   "outputs": [],
   "source": [
    "noise = np.random.uniform(size=15,low=-2,high=2)\n",
    "label = label + noise\n",
    "print(label)"
   ]
  }
 ],
 "metadata": {
  "kernelspec": {
   "display_name": "Python 3",
   "language": "python",
   "name": "python3"
  },
  "language_info": {
   "codemirror_mode": {
    "name": "ipython",
    "version": 3
   },
   "file_extension": ".py",
   "mimetype": "text/x-python",
   "name": "python",
   "nbconvert_exporter": "python",
   "pygments_lexer": "ipython3",
   "version": "3.13.1"
  }
 },
 "nbformat": 4,
 "nbformat_minor": 2
}
